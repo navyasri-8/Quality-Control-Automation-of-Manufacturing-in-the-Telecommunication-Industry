{
 "cells": [
  {
   "cell_type": "markdown",
   "id": "4f14c92d-4fdb-4ffa-a112-6bb234c3092e",
   "metadata": {},
   "source": [
    "# **Ensuring Quality Control Automation of Manufacturing in the Telecommunication Industry**"
   ]
  },
  {
   "cell_type": "code",
   "execution_count": 272,
   "id": "0875bc8a-7480-463f-b8ab-18ed080cc896",
   "metadata": {},
   "outputs": [],
   "source": [
    "import pandas as pd\n",
    "from sklearn.model_selection import train_test_split\n",
    "from sklearn.linear_model import LinearRegression\n",
    "from sklearn.metrics import mean_squared_error, r2_score,accuracy_score\n",
    "import matplotlib.pyplot as plt\n",
    "import seaborn as sns"
   ]
  },
  {
   "cell_type": "code",
   "execution_count": 273,
   "id": "5a68fec3-fee8-4b99-9a6c-81350bf2e8ad",
   "metadata": {},
   "outputs": [],
   "source": [
    "# Load the dataset\n",
    "data = pd.read_csv(r'C:\\Users\\navya\\OneDrive\\Desktop\\telecom manufac.csv')  "
   ]
  },
  {
   "cell_type": "code",
   "execution_count": 274,
   "id": "3d9f9b39-8ac3-4cff-ac73-4b12c2bc17f5",
   "metadata": {},
   "outputs": [
    {
     "name": "stdout",
     "output_type": "stream",
     "text": [
      "   Production rate(in lkhs)  EMF Radiation(50)  Network latency(350MS)  \\\n",
      "0                       118                 13                     315   \n",
      "1                        19                  5                     336   \n",
      "2                       183                 22                     316   \n",
      "3                        88                 48                      55   \n",
      "4                        98                 47                     129   \n",
      "\n",
      "   Brand Ranking(20)  Customer feedback(5)  Speed(100mbps)  Quality Standards  \n",
      "0                 16                     2              85             75.835  \n",
      "1                 14                     1              47             58.298  \n",
      "2                 12                     3              32             78.443  \n",
      "3                  1                     1               7             27.567  \n",
      "4                  3                     3              67             47.884  \n"
     ]
    }
   ],
   "source": [
    "# Display the first few rows to understand the structure\n",
    "print(data.head())"
   ]
  },
  {
   "cell_type": "code",
   "execution_count": 275,
   "id": "5c6e0b0b-0c09-4f88-9545-5daef7ada4c0",
   "metadata": {},
   "outputs": [
    {
     "name": "stdout",
     "output_type": "stream",
     "text": [
      "<class 'pandas.core.frame.DataFrame'>\n",
      "RangeIndex: 1000 entries, 0 to 999\n",
      "Data columns (total 7 columns):\n",
      " #   Column                    Non-Null Count  Dtype  \n",
      "---  ------                    --------------  -----  \n",
      " 0   Production rate(in lkhs)  1000 non-null   int64  \n",
      " 1   EMF Radiation(50)         1000 non-null   int64  \n",
      " 2   Network latency(350MS)    1000 non-null   int64  \n",
      " 3   Brand Ranking(20)         1000 non-null   int64  \n",
      " 4   Customer feedback(5)      1000 non-null   int64  \n",
      " 5   Speed(100mbps)            1000 non-null   int64  \n",
      " 6   Quality Standards         1000 non-null   float64\n",
      "dtypes: float64(1), int64(6)\n",
      "memory usage: 54.8 KB\n"
     ]
    }
   ],
   "source": [
    "data.info()"
   ]
  },
  {
   "cell_type": "code",
   "execution_count": 276,
   "id": "3f0d763d-5378-42a2-9f08-ebd6c0d6ef53",
   "metadata": {},
   "outputs": [
    {
     "data": {
      "text/plain": [
       "Production rate(in lkhs)    0\n",
       "EMF Radiation(50)           0\n",
       "Network latency(350MS)      0\n",
       "Brand Ranking(20)           0\n",
       "Customer feedback(5)        0\n",
       "Speed(100mbps)              0\n",
       "Quality Standards           0\n",
       "dtype: int64"
      ]
     },
     "execution_count": 276,
     "metadata": {},
     "output_type": "execute_result"
    }
   ],
   "source": [
    "data.isnull().sum()"
   ]
  },
  {
   "cell_type": "code",
   "execution_count": 277,
   "id": "344e2d3a-7f6c-4120-af9f-e22c9ecb489b",
   "metadata": {},
   "outputs": [
    {
     "data": {
      "text/html": [
       "<div>\n",
       "<style scoped>\n",
       "    .dataframe tbody tr th:only-of-type {\n",
       "        vertical-align: middle;\n",
       "    }\n",
       "\n",
       "    .dataframe tbody tr th {\n",
       "        vertical-align: top;\n",
       "    }\n",
       "\n",
       "    .dataframe thead th {\n",
       "        text-align: right;\n",
       "    }\n",
       "</style>\n",
       "<table border=\"1\" class=\"dataframe\">\n",
       "  <thead>\n",
       "    <tr style=\"text-align: right;\">\n",
       "      <th></th>\n",
       "      <th>Production rate(in lkhs)</th>\n",
       "      <th>EMF Radiation(50)</th>\n",
       "      <th>Network latency(350MS)</th>\n",
       "      <th>Brand Ranking(20)</th>\n",
       "      <th>Customer feedback(5)</th>\n",
       "      <th>Speed(100mbps)</th>\n",
       "      <th>Quality Standards</th>\n",
       "    </tr>\n",
       "  </thead>\n",
       "  <tbody>\n",
       "    <tr>\n",
       "      <th>count</th>\n",
       "      <td>1000.000000</td>\n",
       "      <td>1000.000000</td>\n",
       "      <td>1000.000000</td>\n",
       "      <td>1000.000000</td>\n",
       "      <td>1000.000000</td>\n",
       "      <td>1000.000000</td>\n",
       "      <td>1000.000000</td>\n",
       "    </tr>\n",
       "    <tr>\n",
       "      <th>mean</th>\n",
       "      <td>101.191000</td>\n",
       "      <td>25.831000</td>\n",
       "      <td>178.409000</td>\n",
       "      <td>10.523000</td>\n",
       "      <td>2.960000</td>\n",
       "      <td>50.499000</td>\n",
       "      <td>51.027815</td>\n",
       "    </tr>\n",
       "    <tr>\n",
       "      <th>std</th>\n",
       "      <td>57.153609</td>\n",
       "      <td>14.435748</td>\n",
       "      <td>100.775162</td>\n",
       "      <td>5.929809</td>\n",
       "      <td>1.418595</td>\n",
       "      <td>29.284425</td>\n",
       "      <td>16.467256</td>\n",
       "    </tr>\n",
       "    <tr>\n",
       "      <th>min</th>\n",
       "      <td>1.000000</td>\n",
       "      <td>1.000000</td>\n",
       "      <td>1.000000</td>\n",
       "      <td>1.000000</td>\n",
       "      <td>1.000000</td>\n",
       "      <td>1.000000</td>\n",
       "      <td>7.964000</td>\n",
       "    </tr>\n",
       "    <tr>\n",
       "      <th>25%</th>\n",
       "      <td>53.000000</td>\n",
       "      <td>13.000000</td>\n",
       "      <td>97.000000</td>\n",
       "      <td>5.000000</td>\n",
       "      <td>2.000000</td>\n",
       "      <td>24.000000</td>\n",
       "      <td>38.685250</td>\n",
       "    </tr>\n",
       "    <tr>\n",
       "      <th>50%</th>\n",
       "      <td>104.000000</td>\n",
       "      <td>27.000000</td>\n",
       "      <td>180.000000</td>\n",
       "      <td>11.000000</td>\n",
       "      <td>3.000000</td>\n",
       "      <td>49.000000</td>\n",
       "      <td>50.801500</td>\n",
       "    </tr>\n",
       "    <tr>\n",
       "      <th>75%</th>\n",
       "      <td>151.000000</td>\n",
       "      <td>39.000000</td>\n",
       "      <td>263.000000</td>\n",
       "      <td>16.000000</td>\n",
       "      <td>4.000000</td>\n",
       "      <td>77.000000</td>\n",
       "      <td>63.687500</td>\n",
       "    </tr>\n",
       "    <tr>\n",
       "      <th>max</th>\n",
       "      <td>200.000000</td>\n",
       "      <td>50.000000</td>\n",
       "      <td>350.000000</td>\n",
       "      <td>20.000000</td>\n",
       "      <td>5.000000</td>\n",
       "      <td>100.000000</td>\n",
       "      <td>91.405000</td>\n",
       "    </tr>\n",
       "  </tbody>\n",
       "</table>\n",
       "</div>"
      ],
      "text/plain": [
       "       Production rate(in lkhs)  EMF Radiation(50)  Network latency(350MS)  \\\n",
       "count               1000.000000        1000.000000             1000.000000   \n",
       "mean                 101.191000          25.831000              178.409000   \n",
       "std                   57.153609          14.435748              100.775162   \n",
       "min                    1.000000           1.000000                1.000000   \n",
       "25%                   53.000000          13.000000               97.000000   \n",
       "50%                  104.000000          27.000000              180.000000   \n",
       "75%                  151.000000          39.000000              263.000000   \n",
       "max                  200.000000          50.000000              350.000000   \n",
       "\n",
       "       Brand Ranking(20)  Customer feedback(5)  Speed(100mbps)  \\\n",
       "count        1000.000000           1000.000000     1000.000000   \n",
       "mean           10.523000              2.960000       50.499000   \n",
       "std             5.929809              1.418595       29.284425   \n",
       "min             1.000000              1.000000        1.000000   \n",
       "25%             5.000000              2.000000       24.000000   \n",
       "50%            11.000000              3.000000       49.000000   \n",
       "75%            16.000000              4.000000       77.000000   \n",
       "max            20.000000              5.000000      100.000000   \n",
       "\n",
       "       Quality Standards  \n",
       "count        1000.000000  \n",
       "mean           51.027815  \n",
       "std            16.467256  \n",
       "min             7.964000  \n",
       "25%            38.685250  \n",
       "50%            50.801500  \n",
       "75%            63.687500  \n",
       "max            91.405000  "
      ]
     },
     "execution_count": 277,
     "metadata": {},
     "output_type": "execute_result"
    }
   ],
   "source": [
    "data.describe()"
   ]
  },
  {
   "cell_type": "code",
   "execution_count": 278,
   "id": "3a78fbd0-93be-4d81-ae10-a85d5e4dad04",
   "metadata": {},
   "outputs": [],
   "source": [
    "# removing unwanted columns\n",
    "data.drop(columns=['Brand Ranking(20)'],inplace=True)\n",
    "data.drop(columns=['Customer feedback(5)'],inplace=True)"
   ]
  },
  {
   "cell_type": "code",
   "execution_count": 271,
   "id": "299fe75f-04af-4678-bf85-8975deb447ea",
   "metadata": {},
   "outputs": [
    {
     "data": {
      "text/html": [
       "<div>\n",
       "<style scoped>\n",
       "    .dataframe tbody tr th:only-of-type {\n",
       "        vertical-align: middle;\n",
       "    }\n",
       "\n",
       "    .dataframe tbody tr th {\n",
       "        vertical-align: top;\n",
       "    }\n",
       "\n",
       "    .dataframe thead th {\n",
       "        text-align: right;\n",
       "    }\n",
       "</style>\n",
       "<table border=\"1\" class=\"dataframe\">\n",
       "  <thead>\n",
       "    <tr style=\"text-align: right;\">\n",
       "      <th></th>\n",
       "      <th>Production rate(in lkhs)</th>\n",
       "      <th>EMF Radiation(50)</th>\n",
       "      <th>Network latency(350MS)</th>\n",
       "      <th>Speed(100mbps)</th>\n",
       "      <th>Quality Standards</th>\n",
       "    </tr>\n",
       "  </thead>\n",
       "  <tbody>\n",
       "    <tr>\n",
       "      <th>0</th>\n",
       "      <td>118</td>\n",
       "      <td>13</td>\n",
       "      <td>315</td>\n",
       "      <td>85</td>\n",
       "      <td>75.835</td>\n",
       "    </tr>\n",
       "    <tr>\n",
       "      <th>1</th>\n",
       "      <td>19</td>\n",
       "      <td>5</td>\n",
       "      <td>336</td>\n",
       "      <td>47</td>\n",
       "      <td>58.298</td>\n",
       "    </tr>\n",
       "    <tr>\n",
       "      <th>2</th>\n",
       "      <td>183</td>\n",
       "      <td>22</td>\n",
       "      <td>316</td>\n",
       "      <td>32</td>\n",
       "      <td>78.443</td>\n",
       "    </tr>\n",
       "    <tr>\n",
       "      <th>3</th>\n",
       "      <td>88</td>\n",
       "      <td>48</td>\n",
       "      <td>55</td>\n",
       "      <td>7</td>\n",
       "      <td>27.567</td>\n",
       "    </tr>\n",
       "    <tr>\n",
       "      <th>4</th>\n",
       "      <td>98</td>\n",
       "      <td>47</td>\n",
       "      <td>129</td>\n",
       "      <td>67</td>\n",
       "      <td>47.884</td>\n",
       "    </tr>\n",
       "  </tbody>\n",
       "</table>\n",
       "</div>"
      ],
      "text/plain": [
       "   Production rate(in lkhs)  EMF Radiation(50)  Network latency(350MS)  \\\n",
       "0                       118                 13                     315   \n",
       "1                        19                  5                     336   \n",
       "2                       183                 22                     316   \n",
       "3                        88                 48                      55   \n",
       "4                        98                 47                     129   \n",
       "\n",
       "   Speed(100mbps)  Quality Standards  \n",
       "0              85             75.835  \n",
       "1              47             58.298  \n",
       "2              32             78.443  \n",
       "3               7             27.567  \n",
       "4              67             47.884  "
      ]
     },
     "execution_count": 271,
     "metadata": {},
     "output_type": "execute_result"
    }
   ],
   "source": [
    "data.head()"
   ]
  },
  {
   "cell_type": "markdown",
   "id": "4becd78e-369c-4693-9098-5595229fad22",
   "metadata": {},
   "source": [
    "# **LINEAR REGRESSION**"
   ]
  },
  {
   "cell_type": "markdown",
   "id": "dac36531-8646-4027-9fa9-b111e1e4e6d5",
   "metadata": {},
   "source": [
    "**1. Production Rate**"
   ]
  },
  {
   "cell_type": "code",
   "execution_count": 252,
   "id": "13ff6206-b772-43b9-a07f-1b689dd970d1",
   "metadata": {},
   "outputs": [],
   "source": [
    "# Define the features and target variable\n",
    "X = data.drop('Quality Standards', axis=1)  # Features\n",
    "y = data['Production rate(in lkhs)']  # Target variable"
   ]
  },
  {
   "cell_type": "code",
   "execution_count": 253,
   "id": "1eb1f5ee-33d6-40ae-9a30-7a513478b3dc",
   "metadata": {},
   "outputs": [],
   "source": [
    "# Split the data into training and testing sets\n",
    "X_train, X_test, y_train, y_test = train_test_split(X, y, test_size=0.2, random_state=42)"
   ]
  },
  {
   "cell_type": "code",
   "execution_count": 254,
   "id": "8801eeef-57a7-4449-b1cd-d96ae3f43048",
   "metadata": {},
   "outputs": [],
   "source": [
    "# Create a linear regression model\n",
    "model = LinearRegression()\n",
    "\n",
    "# Train the model\n",
    "model.fit(X_train, y_train)\n",
    "\n",
    "# Make predictions on the test set\n",
    "y_pred = model.predict(X_test)\n"
   ]
  },
  {
   "cell_type": "code",
   "execution_count": 255,
   "id": "c29c0047-fab6-4647-a196-7f5bc0c87d8e",
   "metadata": {},
   "outputs": [],
   "source": [
    "# Evaluate the model\n",
    "mse = mean_squared_error(y_test, y_pred)\n",
    "r2 = r2_score(y_test, y_pred)"
   ]
  },
  {
   "cell_type": "code",
   "execution_count": 256,
   "id": "a410db67-1551-45cb-adff-c67642e10f36",
   "metadata": {},
   "outputs": [
    {
     "name": "stdout",
     "output_type": "stream",
     "text": [
      "Mean Squared Error: 3.878496886574907e-28\n",
      "R-squared: 1.0\n"
     ]
    }
   ],
   "source": [
    "# Evaluating the model\n",
    "print(f'Mean Squared Error: {mse}')\n",
    "print(f'R-squared: {r2}')"
   ]
  },
  {
   "cell_type": "code",
   "execution_count": 257,
   "id": "a410ffb5-5f43-41da-a65e-08f9073bf181",
   "metadata": {},
   "outputs": [
    {
     "name": "stdout",
     "output_type": "stream",
     "text": [
      "                           Coefficient\n",
      "Production rate(in lkhs)  1.000000e+00\n",
      "EMF Radiation(50)        -1.172672e-16\n",
      "Network latency(350MS)   -1.785258e-16\n",
      "Speed(100mbps)            6.841347e-18\n"
     ]
    }
   ],
   "source": [
    "# Display the coefficients\n",
    "coefficients = pd.DataFrame(model.coef_, X.columns, columns=['Coefficient'])\n",
    "print(coefficients)"
   ]
  },
  {
   "cell_type": "code",
   "execution_count": 258,
   "id": "0367c567-2bb3-4044-8069-aeb52dffde09",
   "metadata": {},
   "outputs": [
    {
     "data": {
      "image/png": "[encoded data removed]",
      "text/plain": [
       "<Figure size 1000x600 with 1 Axes>"
      ]
     },
     "metadata": {},
     "output_type": "display_data"
    }
   ],
   "source": [
    "# Choose a feature to plot against y_test\n",
    "feature_to_plot = 'Production rate(in lkhs)'  # Replace this with the actual feature name\n",
    "\n",
    "plt.figure(figsize=(10, 6))\n",
    "plt.scatter(X_test[feature_to_plot], y_test, label='Actual')\n",
    "plt.scatter(X_test[feature_to_plot], y_pred, label='Predicted', color='red')\n",
    "plt.plot(X_test[feature_to_plot], y_pred, color='blue', linewidth=2, label='Predicted Line')\n",
    "plt.xlabel(feature_to_plot)\n",
    "plt.ylabel('Quality Standards')\n",
    "plt.title('Actual vs Predicted Quality Standards')\n",
    "plt.legend()\n",
    "plt.show()"
   ]
  },
  {
   "cell_type": "markdown",
   "id": "5919019f-6bde-42dc-8e26-0df3ce5aff11",
   "metadata": {},
   "source": [
    "**2. EMF RADIATION**"
   ]
  },
  {
   "cell_type": "code",
   "execution_count": 259,
   "id": "c54313b0-144c-47ff-8b84-9a8662d574ac",
   "metadata": {},
   "outputs": [
    {
     "name": "stdout",
     "output_type": "stream",
     "text": [
      "Mean Squared Error: 3.066285082261771e-28\n",
      "                           Coefficient\n",
      "Production rate(in lkhs)  1.014642e-17\n",
      "EMF Radiation(50)         1.000000e+00\n",
      "Network latency(350MS)    1.045427e-17\n",
      "Speed(100mbps)            1.774692e-16\n"
     ]
    }
   ],
   "source": [
    "# Define the features and target variable\n",
    "X = data.drop('Quality Standards', axis=1)  # Features\n",
    "y = data['EMF Radiation(50)']  # Target variable\n",
    "# Split the data into training and testing sets\n",
    "X_train, X_test, y_train, y_test = train_test_split(X, y, test_size=0.2, random_state=42)\n",
    "\n",
    "# Create a linear regression model\n",
    "model = LinearRegression()\n",
    "\n",
    "# Train the model\n",
    "model.fit(X_train, y_train)\n",
    "\n",
    "# Make predictions on the test set\n",
    "y_pred = model.predict(X_test)\n",
    "\n",
    "# Evaluate the model\n",
    "mse = mean_squared_error(y_test, y_pred)\n",
    "\n",
    "# Evaluating the model\n",
    "print(f'Mean Squared Error: {mse}')\n",
    "\n",
    "# Display the coefficients\n",
    "coefficients = pd.DataFrame(model.coef_, X.columns, columns=['Coefficient'])\n",
    "print(coefficients)"
   ]
  },
  {
   "cell_type": "markdown",
   "id": "94564090-fdab-4a70-b6eb-61623895aa72",
   "metadata": {},
   "source": [
    "**3. Network latency**"
   ]
  },
  {
   "cell_type": "code",
   "execution_count": 260,
   "id": "4158b7e3-289c-4598-a2d6-174d48d733fd",
   "metadata": {},
   "outputs": [
    {
     "name": "stdout",
     "output_type": "stream",
     "text": [
      "Mean Squared Error: 1.570323835895006e-27\n",
      "                           Coefficient\n",
      "Production rate(in lkhs) -4.183548e-16\n",
      "EMF Radiation(50)         1.389489e-15\n",
      "Network latency(350MS)    1.000000e+00\n",
      "Speed(100mbps)           -3.017005e-17\n"
     ]
    }
   ],
   "source": [
    "X = data.drop('Quality Standards', axis=1)  # Features\n",
    "y = data['Network latency(350MS)']  # Target variable\n",
    "# Split the data into training and testing sets\n",
    "X_train, X_test, y_train, y_test = train_test_split(X, y, test_size=0.2, random_state=42)\n",
    "\n",
    "# Create a linear regression model\n",
    "model = LinearRegression()\n",
    "\n",
    "# Train the model\n",
    "model.fit(X_train, y_train)\n",
    "\n",
    "# Make predictions on the test set\n",
    "y_pred = model.predict(X_test)\n",
    "\n",
    "# Evaluate the model\n",
    "mse = mean_squared_error(y_test, y_pred)\n",
    "\n",
    "# Evaluating the model\n",
    "print(f'Mean Squared Error: {mse}')\n",
    "\n",
    "# Display the coefficients\n",
    "coefficients = pd.DataFrame(model.coef_, X.columns, columns=['Coefficient'])\n",
    "print(coefficients)"
   ]
  },
  {
   "cell_type": "markdown",
   "id": "29c7b744-40dc-4084-83a7-5ca6971c2c70",
   "metadata": {},
   "source": [
    "**4. Speed**"
   ]
  },
  {
   "cell_type": "code",
   "execution_count": 261,
   "id": "15fb6b32-b798-4165-9f1d-227f6ef851a6",
   "metadata": {},
   "outputs": [
    {
     "name": "stdout",
     "output_type": "stream",
     "text": [
      "Mean Squared Error: 5.3173687006391355e-28\n",
      "                           Coefficient\n",
      "Production rate(in lkhs)  1.352856e-17\n",
      "EMF Radiation(50)         1.082204e-15\n",
      "Network latency(350MS)   -7.246666e-18\n",
      "Speed(100mbps)            1.000000e+00\n"
     ]
    }
   ],
   "source": [
    "X = data.drop('Quality Standards', axis=1)  # Features\n",
    "y = data['Speed(100mbps)']  # Target variable\n",
    "# Split the data into training and testing sets\n",
    "X_train, X_test, y_train, y_test = train_test_split(X, y, test_size=0.2, random_state=42)\n",
    "\n",
    "# Create a linear regression model\n",
    "model = LinearRegression()\n",
    "\n",
    "# Train the model\n",
    "model.fit(X_train, y_train)\n",
    "\n",
    "# Make predictions on the test set\n",
    "y_pred = model.predict(X_test)\n",
    "\n",
    "# Evaluate the model\n",
    "mse = mean_squared_error(y_test, y_pred)\n",
    "\n",
    "# Evaluating the model\n",
    "print(f'Mean Squared Error: {mse}')\n",
    "\n",
    "# Display the coefficients\n",
    "coefficients = pd.DataFrame(model.coef_, X.columns, columns=['Coefficient'])\n",
    "print(coefficients)"
   ]
  },
  {
   "cell_type": "markdown",
   "id": "72f991a0-2b9d-40bf-9a49-e236de5b851a",
   "metadata": {},
   "source": [
    "# **RANDOM FOREST**"
   ]
  },
  {
   "cell_type": "markdown",
   "id": "5daba6f6-18fd-4a2c-95b9-d51ab4bdb762",
   "metadata": {},
   "source": [
    "**1. Production rate**"
   ]
  },
  {
   "cell_type": "code",
   "execution_count": 262,
   "id": "19241758-ba7b-403b-8fb7-e1fc9cf98ffa",
   "metadata": {},
   "outputs": [
    {
     "name": "stdout",
     "output_type": "stream",
     "text": [
      "Accuracy: 0.4\n"
     ]
    },
    {
     "data": {
      "image/png": "[encoded data removed]",
      "text/plain": [
       "<Figure size 800x600 with 1 Axes>"
      ]
     },
     "metadata": {},
     "output_type": "display_data"
    }
   ],
   "source": [
    "from sklearn.ensemble import RandomForestClassifier\n",
    "from sklearn.metrics import accuracy_score\n",
    "import matplotlib.pyplot as plt\n",
    "\n",
    "# Assuming data is already defined and imported\n",
    "# Define features and target\n",
    "X = data.drop('Quality Standards', axis=1)  # Features\n",
    "y = data['Production rate(in lkhs)']  # Target variable\n",
    "\n",
    "# Split the data into training and testing sets\n",
    "X_train, X_test, y_train, y_test = train_test_split(X, y, test_size=0.2, random_state=42)\n",
    "\n",
    "# Create a Random Forest Classifier\n",
    "rf_model = RandomForestClassifier(n_estimators=100, random_state=42)\n",
    "\n",
    "# Train the model\n",
    "rf_model.fit(X_train, y_train)\n",
    "\n",
    "# Make predictions on the test set\n",
    "y_pred = rf_model.predict(X_test)\n",
    "\n",
    "# Evaluate the model\n",
    "accuracy = accuracy_score(y_test, y_pred)\n",
    "\n",
    "# Print the accuracy\n",
    "print(f'Accuracy: {accuracy}')\n",
    "\n",
    "\n",
    "# Plotting actual vs predicted values\n",
    "plt.figure(figsize=(8, 6))\n",
    "plt.scatter(y_test, y_pred, color='blue')\n",
    "plt.plot([y_test.min(), y_test.max()], [y_test.min(), y_test.max()], 'k--', lw=2)\n",
    "plt.xlabel('Actual')\n",
    "plt.ylabel('Predicted')\n",
    "plt.title('Actual vs Predicted')\n",
    "plt.show()"
   ]
  },
  {
   "cell_type": "markdown",
   "id": "b6678cbf-4784-4a82-bb9c-0f2c07d37fbf",
   "metadata": {},
   "source": [
    "**2. EMF Radiation**"
   ]
  },
  {
   "cell_type": "code",
   "execution_count": 263,
   "id": "77e8ffcb-a0a7-4dad-85ac-52a90944e959",
   "metadata": {},
   "outputs": [
    {
     "name": "stdout",
     "output_type": "stream",
     "text": [
      "Accuracy: 0.91\n"
     ]
    }
   ],
   "source": [
    "from sklearn.ensemble import RandomForestClassifier\n",
    "from sklearn.metrics import accuracy_score\n",
    "import matplotlib.pyplot as plt\n",
    "\n",
    "# Assuming data is already defined and imported\n",
    "# Define features and target\n",
    "X = data.drop('Quality Standards', axis=1)  # Features\n",
    "y = data['EMF Radiation(50)']  # Target variable\n",
    "\n",
    "# Split the data into training and testing sets\n",
    "X_train, X_test, y_train, y_test = train_test_split(X, y, test_size=0.2, random_state=42)\n",
    "\n",
    "# Create a Random Forest Classifier\n",
    "rf_model = RandomForestClassifier(n_estimators=100, random_state=42)\n",
    "\n",
    "# Train the model\n",
    "rf_model.fit(X_train, y_train)\n",
    "\n",
    "# Make predictions on the test set\n",
    "y_pred = rf_model.predict(X_test)\n",
    "\n",
    "# Evaluate the model\n",
    "accuracy = accuracy_score(y_test, y_pred)\n",
    "\n",
    "# Print the accuracy\n",
    "print(f'Accuracy: {accuracy}')"
   ]
  },
  {
   "cell_type": "markdown",
   "id": "a55d3d4e-2a4a-4ae1-a3d1-44464ce11b10",
   "metadata": {},
   "source": [
    "**3. Network Latency**"
   ]
  },
  {
   "cell_type": "code",
   "execution_count": 264,
   "id": "e34b2827-6187-4716-aac6-d0c59a4790e8",
   "metadata": {},
   "outputs": [
    {
     "name": "stdout",
     "output_type": "stream",
     "text": [
      "Accuracy: 0.245\n"
     ]
    }
   ],
   "source": [
    "from sklearn.ensemble import RandomForestClassifier\n",
    "from sklearn.metrics import accuracy_score\n",
    "import matplotlib.pyplot as plt\n",
    "\n",
    "# Assuming data is already defined and imported\n",
    "# Define features and target\n",
    "X = data.drop('Quality Standards', axis=1)  # Features\n",
    "y = data['Network latency(350MS)']  # Target variable\n",
    "\n",
    "# Split the data into training and testing sets\n",
    "X_train, X_test, y_train, y_test = train_test_split(X, y, test_size=0.2, random_state=42)\n",
    "\n",
    "# Create a Random Forest Classifier\n",
    "rf_model = RandomForestClassifier(n_estimators=100, random_state=42)\n",
    "\n",
    "# Train the model\n",
    "rf_model.fit(X_train, y_train)\n",
    "\n",
    "# Make predictions on the test set\n",
    "y_pred = rf_model.predict(X_test)\n",
    "\n",
    "# Evaluate the model\n",
    "accuracy = accuracy_score(y_test, y_pred)\n",
    "\n",
    "# Print the accuracy\n",
    "print(f'Accuracy: {accuracy}')"
   ]
  },
  {
   "cell_type": "markdown",
   "id": "f02fc5ca-c41e-4948-a29b-2bf9b8c5dd1d",
   "metadata": {},
   "source": [
    "**4. Speed**"
   ]
  },
  {
   "cell_type": "code",
   "execution_count": 265,
   "id": "d02533d2-2c2a-4c09-b60f-279a7fcd42e6",
   "metadata": {},
   "outputs": [
    {
     "name": "stdout",
     "output_type": "stream",
     "text": [
      "Accuracy: 0.655\n"
     ]
    }
   ],
   "source": [
    "from sklearn.ensemble import RandomForestClassifier\n",
    "from sklearn.metrics import accuracy_score\n",
    "import matplotlib.pyplot as plt\n",
    "\n",
    "# Assuming data is already defined and imported\n",
    "# Define features and target\n",
    "X = data.drop('Quality Standards', axis=1)  # Features\n",
    "y = data['Speed(100mbps)']  # Target variable\n",
    "\n",
    "# Split the data into training and testing sets\n",
    "X_train, X_test, y_train, y_test = train_test_split(X, y, test_size=0.2, random_state=42)\n",
    "\n",
    "# Create a Random Forest Classifier\n",
    "rf_model = RandomForestClassifier(n_estimators=100, random_state=42)\n",
    "\n",
    "# Train the model\n",
    "rf_model.fit(X_train, y_train)\n",
    "\n",
    "# Make predictions on the test set\n",
    "y_pred = rf_model.predict(X_test)\n",
    "\n",
    "# Evaluate the model\n",
    "accuracy = accuracy_score(y_test, y_pred)\n",
    "\n",
    "# Print the accuracy\n",
    "print(f'Accuracy: {accuracy}')"
   ]
  }
 ],
 "metadata": {
  "kernelspec": {
   "display_name": "Python 3 (ipykernel)",
   "language": "python",
   "name": "python3"
  },
  "language_info": {
   "codemirror_mode": {
    "name": "ipython",
    "version": 3
   },
   "file_extension": ".py",
   "mimetype": "text/x-python",
   "name": "python",
   "nbconvert_exporter": "python",
   "pygments_lexer": "ipython3",
   "version": "3.11.7"
  }
 },
 "nbformat": 4,
 "nbformat_minor": 5
}
